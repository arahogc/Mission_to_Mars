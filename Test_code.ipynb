{
 "cells": [
  {
   "cell_type": "code",
   "execution_count": 1,
   "metadata": {},
   "outputs": [],
   "source": [
    "#Import dependecies \n",
    "from splinter import Browser\n",
    "from bs4 import BeautifulSoup as soup \n",
    "from webdriver_manager.chrome import ChromeDriverManager\n",
    "import pandas as pd \n",
    "import datetime as dt "
   ]
  },
  {
   "cell_type": "code",
   "execution_count": 2,
   "metadata": {},
   "outputs": [],
   "source": [
    "def scrape_all(): \n",
    "    #Initiate headless driver for deployment\n",
    "    executable_path = {'executable_path': ChromeDriverManager().install()}\n",
    "    browser = Browser('chrome', **executable_path, headless=True)\n",
    "\n",
    "    news_title, news_paragraph = mars_news(browser)\n",
    "    #run all scraping functions and store results in a dictionary \n",
    "    data = {\n",
    "        \"news_title\": news_title, \n",
    "        \"news_paragraph\": news_paragraph,\n",
    "        \"featured_image\": featured_image(browser), \n",
    "        \"facts\": mars_facts(), \n",
    "        \"last_modified\": dt.datetime.now()\n",
    "    }\n",
    "    browser.quit()\n",
    "    return data\n"
   ]
  },
  {
   "cell_type": "code",
   "execution_count": 4,
   "metadata": {},
   "outputs": [],
   "source": [
    "def mars_news(browser): \n",
    "    #Scrape mars news \n",
    "    #visit the mars news site\n",
    "    url = 'https://mars.nasa.gov/news/'\n",
    "    browser.visit(url)\n",
    "\n",
    "    #option delay for lading the page \n",
    "    browser.is_element_present_by_css(\"ul.item_list li.slide\", wait_time=1)\n",
    "\n",
    "    #convert the browser html to a soup object and then quit the browser\n",
    "    html = browser.html\n",
    "    news_soup = soup(html, 'html.parser')\n",
    "    \n",
    "    #add try/execpt for the error handling \n",
    "    try: \n",
    "        slide_elem= news_soup.select_one(\"ul.item_list li.slide\")\n",
    "        #Use the parent element to find the first 'a' tag and save it as a 'news_title'\n",
    "        news_title = slide_elem.find(\"div\", class_=\"content_title\").get_text()\n",
    "        #Use the parent element to find the paragraph text \n",
    "        news_p = slide_elem.find(\"div\", class_=\"article_teaser_body\").get_text()\n",
    "\n",
    "    except AttributeError:\n",
    "            return None, None \n",
    "\n",
    "    return news_title, news_p"
   ]
  },
  {
   "cell_type": "code",
   "execution_count": 14,
   "metadata": {},
   "outputs": [],
   "source": [
    "def featured_image(browser):\n",
    "    #Visit Url \n",
    "    try: \n",
    "        PREFIX = \"https://web.archive.org/web20181114023740\"\n",
    "        url = f'{PREFIX}/https://www.jpl.nasa.gov/spaceimages/?search=&category=Mars'\n",
    "        browser.visit(url)\n",
    "        article = browser.find_by_tag('article').first['style']\n",
    "        article_background = article.split(\"_/\")[1]/replace('\"),',\"\")\n",
    "        return \n",
    "        f'{PREFIX}_if/{article_background}'\n",
    "    except: \n",
    "        return 'https://www.nasa.gov/sites/default/files/styles/full_width_feature/public/thumbnails/image/pia22486-main.jpg'\n"
   ]
  },
  {
   "cell_type": "code",
   "execution_count": 16,
   "metadata": {},
   "outputs": [],
   "source": [
    "def mars_facts():\n",
    "    #Add try/except for the error handling \n",
    "    try: \n",
    "        #Use 'read_html' to scrape the facts into a datframe \n",
    "        df = pd.read_html('http://space-facts.com/mars/')[0]\n",
    "    except BaseException: \n",
    "        return None \n",
    "\n",
    "        df.columns=['Description', 'Mars']\n",
    "        df.set_index('Description', inplace=True)\n",
    "        #Convert dataframe into HTML format, add bootstrap \n",
    "        return df.to_html(classes=\"table table-striped\")\n",
    "    \n",
    "    if __name__ == \"__main__\":\n",
    "        #if running as script, as print scraped data \n",
    "        print(scrape_all())"
   ]
  },
  {
   "cell_type": "code",
   "execution_count": null,
   "metadata": {},
   "outputs": [],
   "source": []
  }
 ],
 "metadata": {
  "kernelspec": {
   "display_name": "PYthonData",
   "language": "python",
   "name": "pythondata"
  },
  "language_info": {
   "codemirror_mode": {
    "name": "ipython",
    "version": 3
   },
   "file_extension": ".py",
   "mimetype": "text/x-python",
   "name": "python",
   "nbconvert_exporter": "python",
   "pygments_lexer": "ipython3",
   "version": "3.8.5"
  }
 },
 "nbformat": 4,
 "nbformat_minor": 4
}
